{
  "nbformat": 4,
  "nbformat_minor": 0,
  "metadata": {
    "colab": {
      "provenance": []
    },
    "kernelspec": {
      "name": "python3",
      "display_name": "Python 3"
    },
    "language_info": {
      "name": "python"
    }
  },
  "cells": [
    {
      "cell_type": "code",
      "execution_count": null,
      "metadata": {
        "id": "FUm4Asfhg0or"
      },
      "outputs": [],
      "source": []
    },
    {
      "cell_type": "markdown",
      "source": [
        "# In this Notebook we will cover some most basic fundamental concepts of Tensors using TensiorFlow\n",
        "\n",
        "## List of content\n",
        "\n",
        "1.   Introduction to Tensors\n",
        "2.   Geting Information from Tensors\n",
        "3. Manipulating Tensors\n",
        "4. Tensors and Numpy\n",
        "5. using tf.function() (Way to speed up python Functions)\n",
        "6. using GPUs with tensorflow\n",
        "7. Exercises to try by myself!!!!\n",
        "\n"
      ],
      "metadata": {
        "id": "3D_1BlyfhJ9h"
      }
    },
    {
      "cell_type": "markdown",
      "source": [
        "## Introduction to Tensors\n",
        "\n",
        "\n"
      ],
      "metadata": {
        "id": "i_7j4lbGiW3y"
      }
    },
    {
      "cell_type": "code",
      "source": [
        "# importing tensorflow\n",
        "\n",
        "import tensorflow as tf\n",
        "\n",
        "print(tf.__version__)"
      ],
      "metadata": {
        "colab": {
          "base_uri": "https://localhost:8080/"
        },
        "id": "O4Ts6k5fiRkB",
        "outputId": "2764f9d2-878e-410b-af9f-45f9a714c181"
      },
      "execution_count": 3,
      "outputs": [
        {
          "output_type": "stream",
          "name": "stdout",
          "text": [
            "2.15.0\n"
          ]
        }
      ]
    },
    {
      "cell_type": "code",
      "source": [
        "# Create Tensor with tf.constant()\n",
        "\n",
        "scalar = tf.constant(7)\n",
        "scalar"
      ],
      "metadata": {
        "colab": {
          "base_uri": "https://localhost:8080/"
        },
        "id": "MA9V_3bDhcLl",
        "outputId": "6b787dc5-6b04-4797-aaab-f9088c98d2e0"
      },
      "execution_count": 4,
      "outputs": [
        {
          "output_type": "execute_result",
          "data": {
            "text/plain": [
              "<tf.Tensor: shape=(), dtype=int32, numpy=7>"
            ]
          },
          "metadata": {},
          "execution_count": 4
        }
      ]
    },
    {
      "cell_type": "code",
      "source": [],
      "metadata": {
        "id": "gH92wm9njG_2"
      },
      "execution_count": null,
      "outputs": []
    }
  ]
}